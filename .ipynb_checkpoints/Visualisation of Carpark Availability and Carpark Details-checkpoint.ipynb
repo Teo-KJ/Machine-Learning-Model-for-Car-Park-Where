{
 "cells": [
  {
   "cell_type": "markdown",
   "metadata": {},
   "source": [
    "## Visualisation of Carpark Availability and Carpark Details\n",
    "In this notebook, we visualise the carpark details of all carparks and carpark availabilty for some carparks."
   ]
  },
  {
   "cell_type": "code",
   "execution_count": 1,
   "metadata": {},
   "outputs": [],
   "source": [
    "# Essential Modules\n",
    "\n",
    "import pandas as pd\n",
    "import numpy as np\n",
    "from datetime import datetime\n",
    "import matplotlib.pyplot as plt\n",
    "import seaborn as sb\n",
    "from pandas.io.json import json_normalize"
   ]
  },
  {
   "cell_type": "markdown",
   "metadata": {},
   "source": [
    "### Information of Carparks\n",
    "First, we shall extract the data of the carpark details from both the Housing Development Board (HDB) and the Urban Redevelopment Authority (URA)."
   ]
  },
  {
   "cell_type": "code",
   "execution_count": 2,
   "metadata": {
    "scrolled": false
   },
   "outputs": [
    {
     "data": {
      "text/html": [
       "<div>\n",
       "<style scoped>\n",
       "    .dataframe tbody tr th:only-of-type {\n",
       "        vertical-align: middle;\n",
       "    }\n",
       "\n",
       "    .dataframe tbody tr th {\n",
       "        vertical-align: top;\n",
       "    }\n",
       "\n",
       "    .dataframe thead th {\n",
       "        text-align: right;\n",
       "    }\n",
       "</style>\n",
       "<table border=\"1\" class=\"dataframe\">\n",
       "  <thead>\n",
       "    <tr style=\"text-align: right;\">\n",
       "      <th></th>\n",
       "      <th>carparkNumber</th>\n",
       "      <th>Address</th>\n",
       "      <th>x_coord</th>\n",
       "      <th>y_coord</th>\n",
       "      <th>car_park_type</th>\n",
       "      <th>type_of_parking_system</th>\n",
       "      <th>short_term_parking</th>\n",
       "      <th>free_parking</th>\n",
       "      <th>night_parking</th>\n",
       "      <th>car_park_decks</th>\n",
       "      <th>gantry_height</th>\n",
       "      <th>car_park_basement</th>\n",
       "      <th>Is_URA_or_HDB</th>\n",
       "    </tr>\n",
       "  </thead>\n",
       "  <tbody>\n",
       "    <tr>\n",
       "      <th>0</th>\n",
       "      <td>ACB</td>\n",
       "      <td>BLK 270/271 ALBERT CENTRE BASEMENT CAR PARK</td>\n",
       "      <td>30314.7936</td>\n",
       "      <td>31490.4942</td>\n",
       "      <td>BASEMENT CAR PARK</td>\n",
       "      <td>ELECTRONIC PARKING</td>\n",
       "      <td>WHOLE DAY</td>\n",
       "      <td>NO</td>\n",
       "      <td>YES</td>\n",
       "      <td>1</td>\n",
       "      <td>1.8</td>\n",
       "      <td>Y</td>\n",
       "      <td>0</td>\n",
       "    </tr>\n",
       "    <tr>\n",
       "      <th>1</th>\n",
       "      <td>ACM</td>\n",
       "      <td>BLK 98A ALJUNIED CRESCENT</td>\n",
       "      <td>33758.4143</td>\n",
       "      <td>33695.5198</td>\n",
       "      <td>MULTI-STOREY CAR PARK</td>\n",
       "      <td>ELECTRONIC PARKING</td>\n",
       "      <td>WHOLE DAY</td>\n",
       "      <td>SUN &amp; PH FR 7AM-10.30PM</td>\n",
       "      <td>YES</td>\n",
       "      <td>5</td>\n",
       "      <td>2.1</td>\n",
       "      <td>N</td>\n",
       "      <td>0</td>\n",
       "    </tr>\n",
       "    <tr>\n",
       "      <th>2</th>\n",
       "      <td>AH1</td>\n",
       "      <td>BLK 101 JALAN DUSUN</td>\n",
       "      <td>29257.7203</td>\n",
       "      <td>34500.3599</td>\n",
       "      <td>SURFACE CAR PARK</td>\n",
       "      <td>ELECTRONIC PARKING</td>\n",
       "      <td>WHOLE DAY</td>\n",
       "      <td>SUN &amp; PH FR 7AM-10.30PM</td>\n",
       "      <td>YES</td>\n",
       "      <td>0</td>\n",
       "      <td>0.0</td>\n",
       "      <td>N</td>\n",
       "      <td>0</td>\n",
       "    </tr>\n",
       "    <tr>\n",
       "      <th>3</th>\n",
       "      <td>AK19</td>\n",
       "      <td>BLOCK 253 ANG MO KIO STREET 21</td>\n",
       "      <td>28185.4359</td>\n",
       "      <td>39012.6664</td>\n",
       "      <td>SURFACE CAR PARK</td>\n",
       "      <td>COUPON PARKING</td>\n",
       "      <td>7AM-7PM</td>\n",
       "      <td>NO</td>\n",
       "      <td>NO</td>\n",
       "      <td>0</td>\n",
       "      <td>0.0</td>\n",
       "      <td>N</td>\n",
       "      <td>0</td>\n",
       "    </tr>\n",
       "    <tr>\n",
       "      <th>4</th>\n",
       "      <td>AK31</td>\n",
       "      <td>BLK 302/348 ANG MO KIO ST 31</td>\n",
       "      <td>29482.0290</td>\n",
       "      <td>38684.1754</td>\n",
       "      <td>SURFACE CAR PARK</td>\n",
       "      <td>COUPON PARKING</td>\n",
       "      <td>NO</td>\n",
       "      <td>NO</td>\n",
       "      <td>NO</td>\n",
       "      <td>0</td>\n",
       "      <td>0.0</td>\n",
       "      <td>N</td>\n",
       "      <td>0</td>\n",
       "    </tr>\n",
       "  </tbody>\n",
       "</table>\n",
       "</div>"
      ],
      "text/plain": [
       "  carparkNumber                                      Address     x_coord  \\\n",
       "0           ACB  BLK 270/271 ALBERT CENTRE BASEMENT CAR PARK  30314.7936   \n",
       "1           ACM                    BLK 98A ALJUNIED CRESCENT  33758.4143   \n",
       "2           AH1                          BLK 101 JALAN DUSUN  29257.7203   \n",
       "3          AK19               BLOCK 253 ANG MO KIO STREET 21  28185.4359   \n",
       "4          AK31                 BLK 302/348 ANG MO KIO ST 31  29482.0290   \n",
       "\n",
       "      y_coord          car_park_type type_of_parking_system  \\\n",
       "0  31490.4942      BASEMENT CAR PARK     ELECTRONIC PARKING   \n",
       "1  33695.5198  MULTI-STOREY CAR PARK     ELECTRONIC PARKING   \n",
       "2  34500.3599       SURFACE CAR PARK     ELECTRONIC PARKING   \n",
       "3  39012.6664       SURFACE CAR PARK         COUPON PARKING   \n",
       "4  38684.1754       SURFACE CAR PARK         COUPON PARKING   \n",
       "\n",
       "  short_term_parking             free_parking night_parking  car_park_decks  \\\n",
       "0          WHOLE DAY                       NO           YES               1   \n",
       "1          WHOLE DAY  SUN & PH FR 7AM-10.30PM           YES               5   \n",
       "2          WHOLE DAY  SUN & PH FR 7AM-10.30PM           YES               0   \n",
       "3            7AM-7PM                       NO            NO               0   \n",
       "4                 NO                       NO            NO               0   \n",
       "\n",
       "   gantry_height car_park_basement  Is_URA_or_HDB  \n",
       "0            1.8                 Y              0  \n",
       "1            2.1                 N              0  \n",
       "2            0.0                 N              0  \n",
       "3            0.0                 N              0  \n",
       "4            0.0                 N              0  "
      ]
     },
     "execution_count": 2,
     "metadata": {},
     "output_type": "execute_result"
    }
   ],
   "source": [
    "HDBCarparkDf = pd.read_csv('hdb-carpark-information.csv')\n",
    "HDBCarparkDf = HDBCarparkDf.rename(columns = {'car_park_no':'carparkNumber', 'address':'Address'})\n",
    "HDBCarparkDf['Is_URA_or_HDB'] = 0\n",
    "HDBCarparkDf.head()"
   ]
  },
  {
   "cell_type": "code",
   "execution_count": 3,
   "metadata": {
    "scrolled": false
   },
   "outputs": [
    {
     "name": "stderr",
     "output_type": "stream",
     "text": [
      "C:\\Users\\VMadmin\\anaconda3\\lib\\site-packages\\ipykernel_launcher.py:3: FutureWarning: pandas.io.json.json_normalize is deprecated, use pandas.json_normalize instead\n",
      "  This is separate from the ipykernel package so we can avoid doing imports until\n"
     ]
    },
    {
     "data": {
      "text/html": [
       "<div>\n",
       "<style scoped>\n",
       "    .dataframe tbody tr th:only-of-type {\n",
       "        vertical-align: middle;\n",
       "    }\n",
       "\n",
       "    .dataframe tbody tr th {\n",
       "        vertical-align: top;\n",
       "    }\n",
       "\n",
       "    .dataframe thead th {\n",
       "        text-align: right;\n",
       "    }\n",
       "</style>\n",
       "<table border=\"1\" class=\"dataframe\">\n",
       "  <thead>\n",
       "    <tr style=\"text-align: right;\">\n",
       "      <th></th>\n",
       "      <th>weekdayMin</th>\n",
       "      <th>weekdayRate</th>\n",
       "      <th>carparkNumber</th>\n",
       "      <th>parkingSystem</th>\n",
       "      <th>Address</th>\n",
       "      <th>vehCat</th>\n",
       "      <th>satdayMin</th>\n",
       "      <th>satdayRate</th>\n",
       "      <th>sunPHMin</th>\n",
       "      <th>sunPHRate</th>\n",
       "      <th>geometries</th>\n",
       "      <th>startTime</th>\n",
       "      <th>parkCapacity</th>\n",
       "      <th>endTime</th>\n",
       "      <th>remarks</th>\n",
       "      <th>Is_URA_or_HDB</th>\n",
       "    </tr>\n",
       "  </thead>\n",
       "  <tbody>\n",
       "    <tr>\n",
       "      <th>0</th>\n",
       "      <td>30 mins</td>\n",
       "      <td>$0.60</td>\n",
       "      <td>A0004</td>\n",
       "      <td>C</td>\n",
       "      <td>ALIWAL STREET</td>\n",
       "      <td>Car</td>\n",
       "      <td>30 mins</td>\n",
       "      <td>$0.60</td>\n",
       "      <td>30 mins</td>\n",
       "      <td>$0.60</td>\n",
       "      <td>[{'coordinates': '31045.6165,31694.0055'}, {'c...</td>\n",
       "      <td>08.30 AM</td>\n",
       "      <td>69</td>\n",
       "      <td>10.00 PM</td>\n",
       "      <td>NaN</td>\n",
       "      <td>1</td>\n",
       "    </tr>\n",
       "    <tr>\n",
       "      <th>2</th>\n",
       "      <td>30 mins</td>\n",
       "      <td>$0.60</td>\n",
       "      <td>A0005</td>\n",
       "      <td>C</td>\n",
       "      <td>ALLENBY ROAD</td>\n",
       "      <td>Car</td>\n",
       "      <td>30 mins</td>\n",
       "      <td>$0.60</td>\n",
       "      <td>30 mins</td>\n",
       "      <td>$0.60</td>\n",
       "      <td>[{'coordinates': '30862.9996,32569.715'}]</td>\n",
       "      <td>08.30 AM</td>\n",
       "      <td>16</td>\n",
       "      <td>10.00 PM</td>\n",
       "      <td>NaN</td>\n",
       "      <td>1</td>\n",
       "    </tr>\n",
       "    <tr>\n",
       "      <th>3</th>\n",
       "      <td>30 mins</td>\n",
       "      <td>$1.20</td>\n",
       "      <td>A0006</td>\n",
       "      <td>C</td>\n",
       "      <td>AMOY STREET</td>\n",
       "      <td>Car</td>\n",
       "      <td>30 mins</td>\n",
       "      <td>$1.20</td>\n",
       "      <td>30 mins</td>\n",
       "      <td>$0.60</td>\n",
       "      <td>[{'coordinates': '29548.345,29292.548'}]</td>\n",
       "      <td>08.30 AM</td>\n",
       "      <td>84</td>\n",
       "      <td>05.00 PM</td>\n",
       "      <td>NaN</td>\n",
       "      <td>1</td>\n",
       "    </tr>\n",
       "    <tr>\n",
       "      <th>6</th>\n",
       "      <td>30 mins</td>\n",
       "      <td>$1.30</td>\n",
       "      <td>A0007</td>\n",
       "      <td>B</td>\n",
       "      <td>ANGULLIA PARK OFF STREET</td>\n",
       "      <td>Car</td>\n",
       "      <td>30 mins</td>\n",
       "      <td>$1.30</td>\n",
       "      <td>30 mins</td>\n",
       "      <td>$0.70</td>\n",
       "      <td>[{'coordinates': '27582.895,31962.0601'}]</td>\n",
       "      <td>07.00 AM</td>\n",
       "      <td>268</td>\n",
       "      <td>11.00 AM</td>\n",
       "      <td>Per min charging. Parking charge between 10.30...</td>\n",
       "      <td>1</td>\n",
       "    </tr>\n",
       "    <tr>\n",
       "      <th>13</th>\n",
       "      <td>30 mins</td>\n",
       "      <td>$1.20</td>\n",
       "      <td>A0008</td>\n",
       "      <td>C</td>\n",
       "      <td>ANN SIANG ROAD</td>\n",
       "      <td>Car</td>\n",
       "      <td>30 mins</td>\n",
       "      <td>$1.20</td>\n",
       "      <td>30 mins</td>\n",
       "      <td>$0.60</td>\n",
       "      <td>[{'coordinates': '29394.9904,29258.8791'}]</td>\n",
       "      <td>08.30 AM</td>\n",
       "      <td>26</td>\n",
       "      <td>05.00 PM</td>\n",
       "      <td>No Parking on Friday &amp; Saturday (including pub...</td>\n",
       "      <td>1</td>\n",
       "    </tr>\n",
       "  </tbody>\n",
       "</table>\n",
       "</div>"
      ],
      "text/plain": [
       "   weekdayMin weekdayRate carparkNumber parkingSystem  \\\n",
       "0     30 mins       $0.60         A0004             C   \n",
       "2     30 mins       $0.60         A0005             C   \n",
       "3     30 mins       $1.20         A0006             C   \n",
       "6     30 mins       $1.30         A0007             B   \n",
       "13    30 mins       $1.20         A0008             C   \n",
       "\n",
       "                     Address vehCat satdayMin satdayRate sunPHMin sunPHRate  \\\n",
       "0             ALIWAL STREET     Car   30 mins      $0.60  30 mins     $0.60   \n",
       "2              ALLENBY ROAD     Car   30 mins      $0.60  30 mins     $0.60   \n",
       "3               AMOY STREET     Car   30 mins      $1.20  30 mins     $0.60   \n",
       "6   ANGULLIA PARK OFF STREET    Car   30 mins      $1.30  30 mins     $0.70   \n",
       "13           ANN SIANG ROAD     Car   30 mins      $1.20  30 mins     $0.60   \n",
       "\n",
       "                                           geometries startTime  parkCapacity  \\\n",
       "0   [{'coordinates': '31045.6165,31694.0055'}, {'c...  08.30 AM            69   \n",
       "2           [{'coordinates': '30862.9996,32569.715'}]  08.30 AM            16   \n",
       "3            [{'coordinates': '29548.345,29292.548'}]  08.30 AM            84   \n",
       "6           [{'coordinates': '27582.895,31962.0601'}]  07.00 AM           268   \n",
       "13         [{'coordinates': '29394.9904,29258.8791'}]  08.30 AM            26   \n",
       "\n",
       "     endTime                                            remarks  Is_URA_or_HDB  \n",
       "0   10.00 PM                                                NaN              1  \n",
       "2   10.00 PM                                                NaN              1  \n",
       "3   05.00 PM                                                NaN              1  \n",
       "6   11.00 AM  Per min charging. Parking charge between 10.30...              1  \n",
       "13  05.00 PM  No Parking on Friday & Saturday (including pub...              1  "
      ]
     },
     "execution_count": 3,
     "metadata": {},
     "output_type": "execute_result"
    }
   ],
   "source": [
    "URACarparks = pd.read_json('carparkDetails.json')\n",
    "URACarparks = URACarparks['Result']\n",
    "URACarparkDf = json_normalize(URACarparks)\n",
    "URACarparkDf = URACarparkDf[URACarparkDf['vehCat'] == 'Car']\n",
    "URACarparkDf = URACarparkDf.rename(columns = {'ppCode':'carparkNumber', 'ppName':'Address'})\n",
    "URACarparkDf = URACarparkDf.drop_duplicates(subset = \"carparkNumber\", keep = 'first')\n",
    "URACarparkDf['Is_URA_or_HDB'] = 1\n",
    "URACarparkDf.head()"
   ]
  },
  {
   "cell_type": "code",
   "execution_count": 4,
   "metadata": {},
   "outputs": [
    {
     "data": {
      "text/html": [
       "<div>\n",
       "<style scoped>\n",
       "    .dataframe tbody tr th:only-of-type {\n",
       "        vertical-align: middle;\n",
       "    }\n",
       "\n",
       "    .dataframe tbody tr th {\n",
       "        vertical-align: top;\n",
       "    }\n",
       "\n",
       "    .dataframe thead th {\n",
       "        text-align: right;\n",
       "    }\n",
       "</style>\n",
       "<table border=\"1\" class=\"dataframe\">\n",
       "  <thead>\n",
       "    <tr style=\"text-align: right;\">\n",
       "      <th></th>\n",
       "      <th>carparkNumber</th>\n",
       "      <th>Address</th>\n",
       "      <th>Is_URA_or_HDB</th>\n",
       "    </tr>\n",
       "  </thead>\n",
       "  <tbody>\n",
       "    <tr>\n",
       "      <th>0</th>\n",
       "      <td>A0004</td>\n",
       "      <td>ALIWAL STREET</td>\n",
       "      <td>1</td>\n",
       "    </tr>\n",
       "    <tr>\n",
       "      <th>1</th>\n",
       "      <td>A0005</td>\n",
       "      <td>ALLENBY ROAD</td>\n",
       "      <td>1</td>\n",
       "    </tr>\n",
       "    <tr>\n",
       "      <th>2</th>\n",
       "      <td>A0006</td>\n",
       "      <td>AMOY STREET</td>\n",
       "      <td>1</td>\n",
       "    </tr>\n",
       "    <tr>\n",
       "      <th>3</th>\n",
       "      <td>A0007</td>\n",
       "      <td>ANGULLIA PARK OFF STREET</td>\n",
       "      <td>1</td>\n",
       "    </tr>\n",
       "    <tr>\n",
       "      <th>4</th>\n",
       "      <td>A0008</td>\n",
       "      <td>ANN SIANG ROAD</td>\n",
       "      <td>1</td>\n",
       "    </tr>\n",
       "  </tbody>\n",
       "</table>\n",
       "</div>"
      ],
      "text/plain": [
       "  carparkNumber                   Address  Is_URA_or_HDB\n",
       "0         A0004            ALIWAL STREET               1\n",
       "1         A0005             ALLENBY ROAD               1\n",
       "2         A0006              AMOY STREET               1\n",
       "3         A0007  ANGULLIA PARK OFF STREET              1\n",
       "4         A0008           ANN SIANG ROAD               1"
      ]
     },
     "execution_count": 4,
     "metadata": {},
     "output_type": "execute_result"
    }
   ],
   "source": [
    "allCarparks = pd.DataFrame(HDBCarparkDf[['carparkNumber', 'Address', 'Is_URA_or_HDB']])\n",
    "allCarparks = pd.concat([allCarparks, URACarparkDf[['carparkNumber', 'Address', 'Is_URA_or_HDB']]])\n",
    "allCarparks = allCarparks.sort_values(by = 'carparkNumber')\n",
    "allCarparks = allCarparks.reset_index()\n",
    "allCarparks = allCarparks.drop(columns = ['index'])\n",
    "allCarparks.head()"
   ]
  },
  {
   "cell_type": "code",
   "execution_count": 5,
   "metadata": {},
   "outputs": [
    {
     "data": {
      "text/plain": [
       "2813"
      ]
     },
     "execution_count": 5,
     "metadata": {},
     "output_type": "execute_result"
    }
   ],
   "source": [
    "len(allCarparks)"
   ]
  },
  {
   "cell_type": "markdown",
   "metadata": {},
   "source": [
    "From the above data extraction and analysis, there are a total of 2813 carparks from the available data. However, it is important to note that not all the carparks in this data will be used for the prediction of carpark lots, because some carparks are no longer in use but are not timely updated in the API. The details of the carpark including the carpark address, parking rates and carpark lot capacity are included into the data."
   ]
  },
  {
   "cell_type": "markdown",
   "metadata": {},
   "source": [
    "### Visualise daily carpark availability"
   ]
  },
  {
   "cell_type": "code",
   "execution_count": 6,
   "metadata": {},
   "outputs": [],
   "source": [
    "mainDF = pd.read_csv('allCarparksData.csv')"
   ]
  },
  {
   "cell_type": "code",
   "execution_count": 7,
   "metadata": {
    "scrolled": false
   },
   "outputs": [
    {
     "name": "stdout",
     "output_type": "stream",
     "text": [
      "Please enter the carpark number. KM3\n",
      "   dayOfWeek    Unnamed: 0       hour     timeInSec  lotsAvailable  \\\n",
      "0          0  1.019992e+07  11.451018  42990.521533     330.506862   \n",
      "1          1  1.020070e+07  11.995317  44756.528310     336.071946   \n",
      "2          2  1.020140e+07  12.438408  46662.795589     334.339968   \n",
      "3          3  1.020204e+07  10.957487  41401.836561     326.948512   \n",
      "4          4  1.020284e+07  11.574578  43478.269700     325.037054   \n",
      "5          5  1.020222e+07  10.324535  38983.098380     309.343131   \n",
      "6          6  1.019957e+07  11.854839  44479.936950     299.061095   \n",
      "\n",
      "   carparkNoIndicator  modelParts  \n",
      "0               857.0         4.0  \n",
      "1               857.0         4.0  \n",
      "2               857.0         4.0  \n",
      "3               857.0         4.0  \n",
      "4               857.0         4.0  \n",
      "5               857.0         4.0  \n",
      "6               857.0         4.0  \n"
     ]
    },
    {
     "data": {
      "text/plain": [
       "Text(0.5, 0, 'Day - Mon to Sun')"
      ]
     },
     "execution_count": 7,
     "metadata": {},
     "output_type": "execute_result"
    },
    {
     "data": {
      "image/png": "[encoded data removed]",
      "text/plain": [
       "<Figure size 1152x360 with 1 Axes>"
      ]
     },
     "metadata": {
      "needs_background": "light"
     },
     "output_type": "display_data"
    }
   ],
   "source": [
    "carparkNum = input(str(\"Please enter the carpark number. \"))\n",
    "\n",
    "desiredDF = mainDF[mainDF['carparkNo'] == carparkNum]\n",
    "desiredDF = desiredDF.groupby(['dayOfWeek']).mean()\n",
    "desiredDF = desiredDF.reset_index()\n",
    "print(desiredDF)\n",
    "\n",
    "dims = (16, 5)\n",
    "fig = plt.figure(figsize = dims)\n",
    "\n",
    "ax0 = fig.add_subplot(111)\n",
    "\n",
    "desiredDF.plot(kind = 'bar', x = 'dayOfWeek', y = 'lotsAvailable', color = 'orange', ax = ax0)\n",
    "plt.title(f\"Lots Available for {carparkNum} at various days of the week\")\n",
    "plt.ylabel(\"Number of Carpark Lots\")\n",
    "plt.xticks(rotation = 0)\n",
    "ax0.set_xlabel('Day - Mon to Sun')"
   ]
  },
  {
   "cell_type": "markdown",
   "metadata": {},
   "source": [
    "### Visualise carpark availability by time"
   ]
  },
  {
   "cell_type": "code",
   "execution_count": 8,
   "metadata": {},
   "outputs": [
    {
     "name": "stdout",
     "output_type": "stream",
     "text": [
      "Please enter the carpark number. J65\n",
      "    hour    Unnamed: 0  dayOfWeek     timeInSec  lotsAvailable  \\\n",
      "0      0  7.230513e+06   2.846939   1774.289116     288.637755   \n",
      "1      1  7.230539e+06   2.849662   5395.471284     275.778716   \n",
      "2      2  7.230330e+06   2.943709   9027.958609     272.150662   \n",
      "3      3  7.230276e+06   3.019231  12612.022436     268.115385   \n",
      "4      4  7.230325e+06   2.996743  16222.690554     269.112378   \n",
      "5      5  7.230355e+06   3.000000  19824.235484     283.066129   \n",
      "6      6  7.230374e+06   2.996748  23420.517073     342.796748   \n",
      "7      7  7.230360e+06   2.995153  27022.638126     467.371567   \n",
      "8      8  7.230417e+06   3.000000  30628.773463     584.069579   \n",
      "9      9  7.230461e+06   2.986864  34210.348112     630.975369   \n",
      "10    10  7.230205e+06   2.911414  37812.264055     655.744463   \n",
      "11    11  7.230207e+06   2.890971  41408.875639     664.584327   \n",
      "12    12  7.230170e+06   2.881443  45000.769759     654.297251   \n",
      "13    13  7.230189e+06   2.949389  48614.075044     653.687609   \n",
      "14    14  7.230204e+06   2.895904  52202.883959     661.121160   \n",
      "15    15  7.230260e+06   2.906303  55794.785349     653.660988   \n",
      "16    16  7.230260e+06   2.890785  59392.479522     643.225256   \n",
      "17    17  7.230325e+06   2.888508  62976.346484     618.183533   \n",
      "18    18  7.230349e+06   2.901528  66576.329372     556.724958   \n",
      "19    19  7.230340e+06   2.891525  70200.450847     486.320339   \n",
      "20    20  7.230396e+06   2.919521  73808.542808     438.095890   \n",
      "21    21  7.230398e+06   2.917667  77392.974271     392.578045   \n",
      "22    22  7.230499e+06   2.890785  80992.853242     347.407850   \n",
      "23    23  7.230491e+06   2.896014  84571.391681     311.566724   \n",
      "\n",
      "    carparkNoIndicator  modelParts  \n",
      "0                728.0         3.0  \n",
      "1                728.0         3.0  \n",
      "2                728.0         3.0  \n",
      "3                728.0         3.0  \n",
      "4                728.0         3.0  \n",
      "5                728.0         3.0  \n",
      "6                728.0         3.0  \n",
      "7                728.0         3.0  \n",
      "8                728.0         3.0  \n",
      "9                728.0         3.0  \n",
      "10               728.0         3.0  \n",
      "11               728.0         3.0  \n",
      "12               728.0         3.0  \n",
      "13               728.0         3.0  \n",
      "14               728.0         3.0  \n",
      "15               728.0         3.0  \n",
      "16               728.0         3.0  \n",
      "17               728.0         3.0  \n",
      "18               728.0         3.0  \n",
      "19               728.0         3.0  \n",
      "20               728.0         3.0  \n",
      "21               728.0         3.0  \n",
      "22               728.0         3.0  \n",
      "23               728.0         3.0  \n"
     ]
    },
    {
     "data": {
      "text/plain": [
       "Text(0.5, 0, 'Time at every one hour interval - From 0000 to 2359 HRS')"
      ]
     },
     "execution_count": 8,
     "metadata": {},
     "output_type": "execute_result"
    },
    {
     "data": {
      "image/png": "[encoded data removed]",
      "text/plain": [
       "<Figure size 1152x360 with 1 Axes>"
      ]
     },
     "metadata": {
      "needs_background": "light"
     },
     "output_type": "display_data"
    }
   ],
   "source": [
    "carparkNum = input(str(\"Please enter the carpark number. \"))\n",
    "\n",
    "desiredDF = mainDF[mainDF['carparkNo'] == carparkNum]\n",
    "desiredDF = desiredDF.groupby(['hour']).mean()\n",
    "desiredDF = desiredDF.reset_index()\n",
    "print(desiredDF)\n",
    "\n",
    "dims = (16, 5)\n",
    "fig = plt.figure(figsize = dims)\n",
    "\n",
    "ax0 = fig.add_subplot(111)\n",
    "\n",
    "desiredDF.plot(kind = 'bar', x = 'hour', y = 'lotsAvailable', color = 'orange', ax = ax0)\n",
    "plt.title(f\"Lots Available for {carparkNum} during various times on an average day\")\n",
    "plt.ylabel(\"Number of Carpark Lots\")\n",
    "plt.xticks(rotation = 0)\n",
    "ax0.set_xlabel('Time at every one hour interval - From 0000 to 2359 HRS')"
   ]
  },
  {
   "cell_type": "markdown",
   "metadata": {},
   "source": [
    "Hence from the above visualisation, we can identify the carpark availablilty at various timings of the day and at various days of the week. In our project, we aim to do these visualisations and provide advice to users on timings to park in their selected carparks."
   ]
  },
  {
   "cell_type": "code",
   "execution_count": null,
   "metadata": {},
   "outputs": [],
   "source": []
  }
 ],
 "metadata": {
  "kernelspec": {
   "display_name": "Python 3",
   "language": "python",
   "name": "python3"
  },
  "language_info": {
   "codemirror_mode": {
    "name": "ipython",
    "version": 3
   },
   "file_extension": ".py",
   "mimetype": "text/x-python",
   "name": "python",
   "nbconvert_exporter": "python",
   "pygments_lexer": "ipython3",
   "version": "3.6.8"
  }
 },
 "nbformat": 4,
 "nbformat_minor": 2
}
