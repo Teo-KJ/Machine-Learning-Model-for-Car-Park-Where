{
 "cells": [
  {
   "cell_type": "markdown",
   "metadata": {},
   "source": [
    "## Load the Decision Tree Regressor Model and Predict the Carpark Availability\n",
    "This notebook is the template for loading the saved model and make the prediction based on the user's input carpark number and the date and time. The output will be the number of carpark lots of integer type. The Decision Tree Result represents the predicted number of lots."
   ]
  },
  {
   "cell_type": "code",
   "execution_count": 1,
   "metadata": {},
   "outputs": [
    {
     "name": "stdout",
     "output_type": "stream",
     "text": [
      "Enter the carpark number. A20\n",
      "Enter the time in HH:MM format to check. 11:45\n",
      "Enter the day of week. 2\n",
      "Decision Tree Result 76\n"
     ]
    }
   ],
   "source": [
    "import pandas as pd\n",
    "import pickle\n",
    "\n",
    "# Essential Functions\n",
    "def identifyCarpark(carpark):\n",
    "    count = 0\n",
    "    for i in carparkInfo['carparkNo']:\n",
    "        if i == carpark:\n",
    "            return count\n",
    "        count += 1\n",
    "\n",
    "def convertTimeToSec(time):\n",
    "    h, m, s = time.split(':')\n",
    "    return int(h) * 3600 + int(m) * 60 + int(s)\n",
    "\n",
    "carparkInfo = pd.read_csv('usedCarparks.csv')\n",
    "loaded_model = pickle.load(open(\"DT_model.sav\", 'rb'))\n",
    "\n",
    "carparkNumber = str(input(\"Enter the carpark number. \"))\n",
    "timeInSec = str(input(\"Enter the time in HH:MM format to check. \"))\n",
    "dayInTheWeek = int(input(\"Enter the day of week. \"))\n",
    "\n",
    "convertedTime = convertTimeToSec(timeInSec + \":00\")\n",
    "carpark = identifyCarpark(carparkNumber)\n",
    "\n",
    "some_df = pd.DataFrame([carpark, convertedTime, dayInTheWeek])\n",
    "\n",
    "result = int(loaded_model.predict([[carpark, convertedTime, dayInTheWeek]]))\n",
    "\n",
    "print(\"Decision Tree Result\", result)"
   ]
  },
  {
   "cell_type": "code",
   "execution_count": 4,
   "metadata": {},
   "outputs": [
    {
     "data": {
      "text/html": [
       "<div>\n",
       "<style scoped>\n",
       "    .dataframe tbody tr th:only-of-type {\n",
       "        vertical-align: middle;\n",
       "    }\n",
       "\n",
       "    .dataframe tbody tr th {\n",
       "        vertical-align: top;\n",
       "    }\n",
       "\n",
       "    .dataframe thead th {\n",
       "        text-align: right;\n",
       "    }\n",
       "</style>\n",
       "<table border=\"1\" class=\"dataframe\">\n",
       "  <thead>\n",
       "    <tr style=\"text-align: right;\">\n",
       "      <th></th>\n",
       "      <th>carpark</th>\n",
       "      <th>Time</th>\n",
       "      <th>dayInTheWeek</th>\n",
       "    </tr>\n",
       "  </thead>\n",
       "  <tbody>\n",
       "    <tr>\n",
       "      <th>0</th>\n",
       "      <td>339</td>\n",
       "      <td>51240</td>\n",
       "      <td>5</td>\n",
       "    </tr>\n",
       "  </tbody>\n",
       "</table>\n",
       "</div>"
      ],
      "text/plain": [
       "   carpark   Time  dayInTheWeek\n",
       "0      339  51240             5"
      ]
     },
     "execution_count": 4,
     "metadata": {},
     "output_type": "execute_result"
    }
   ],
   "source": [
    "some_df = pd.DataFrame([(carpark, convertedTime, dayInTheWeek)], columns = ['carpark', 'Time', 'dayInTheWeek'])\n",
    "some_df"
   ]
  },
  {
   "cell_type": "code",
   "execution_count": null,
   "metadata": {},
   "outputs": [],
   "source": []
  }
 ],
 "metadata": {
  "kernelspec": {
   "display_name": "Python 3",
   "language": "python",
   "name": "python3"
  },
  "language_info": {
   "codemirror_mode": {
    "name": "ipython",
    "version": 3
   },
   "file_extension": ".py",
   "mimetype": "text/x-python",
   "name": "python",
   "nbconvert_exporter": "python",
   "pygments_lexer": "ipython3",
   "version": "3.6.8"
  }
 },
 "nbformat": 4,
 "nbformat_minor": 2
}
